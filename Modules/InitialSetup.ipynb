{
 "cells": [
  {
   "cell_type": "code",
   "execution_count": 7,
   "id": "ade5a917-01f0-48dd-a1f5-5d095579f2c1",
   "metadata": {},
   "outputs": [],
   "source": []
  },
  {
   "cell_type": "code",
   "execution_count": 7,
   "id": "66d8ceb5-d6f2-4232-b828-931d2886326a",
   "metadata": {},
   "outputs": [],
   "source": [
    "def get_folders(withdate): # Creates the directories for input and output data\n",
    "    import os\n",
    "    if withdate is True: # adds the data to the folder name\n",
    "        from datetime import datetime\n",
    "        date = datetime.date(datetime.now())\n",
    "        input_folder = \"Input_Data_\" + str(date)\n",
    "        output_folder = \"Output_Data_\" + str(date)\n",
    "    else: # more general folder names\n",
    "        input_folder = \"Input_Data\"\n",
    "        output_folder = \"Output_Data\"\n",
    "    file_path_input = os.path.join(input_folder)\n",
    "    file_path_output = os.path.join(output_folder)\n",
    "    os.makedirs(file_path_input, exist_ok=True)\n",
    "    os.makedirs(file_path_output, exist_ok=True)\n",
    "    return([file_path_input, file_path_output])"
   ]
  },
  {
   "cell_type": "code",
   "execution_count": null,
   "id": "460dc5b2-c48f-422a-9355-7c78e0a96173",
   "metadata": {},
   "outputs": [],
   "source": [
    "def scan_settings_error(): # Prints error information and quits code\n",
    "    print(\"Unexpected scan settings.\\nAcceptable ionization_mode = +CI or +EI.\\nAcceptable scan_mode = Scan or SIM\\nScript will now close\")\n",
    "    return quit()\n",
    "\n",
    "def configure_scan_settings(ionization_mode, scan_mode): # sets up the ionization and scan settings for later functions\n",
    "    if ionization_mode == '+CI':\n",
    "        if scan_mode == 'Scan':\n",
    "            areas_scan_type = '+CI TIC Scan'\n",
    "            spectra_scan_type = '+CI Scan'\n",
    "        elif scan_mode == 'SIM':\n",
    "            areas_scan_type = '+CI TIC SIM'\n",
    "            spectra_scan_type = '+CI SIM'\n",
    "        else:\n",
    "            return scan_settings_error()\n",
    "    elif ionization_mode == '+EI':\n",
    "        if scan_mode == 'Scan':\n",
    "            areas_scan_type = '+EI TIC Scan'\n",
    "            spectra_scan_type = '+EI Scan'\n",
    "        elif scan_mode == 'SIM':\n",
    "            areas_scan_type = '+EI TIC SIM'\n",
    "            spectra_scan_type = '+EI SIM'\n",
    "        else:\n",
    "            return scan_settings_error()\n",
    "    else:\n",
    "        return scan_settings_error()\n",
    "    settings = [spectra_scan_type, areas_scan_type]    \n",
    "    return settings"
   ]
  },
  {
   "cell_type": "code",
   "execution_count": 8,
   "id": "8edd38ec-78f9-4945-a201-75b86b783891",
   "metadata": {},
   "outputs": [
    {
     "name": "stdout",
     "output_type": "stream",
     "text": [
      "['+CI SIM', '+CI TIC SIM']\n"
     ]
    }
   ],
   "source": [
    "class Question:\n",
    "    def __init__(self, prompt, acceptable_answers):\n",
    "        self.prompt = prompt\n",
    "        self.acceptable_answers = acceptable_answers\n",
    "\n",
    "def ask_questions(questions, return_type):\n",
    "    answers = []\n",
    "    indeces = []\n",
    "    for question in questions:\n",
    "        valid_response = False\n",
    "        while valid_response != True:\n",
    "            answer = input(question.prompt)\n",
    "            if answer in question.acceptable_answers:\n",
    "                print(\"\\n\")\n",
    "                index = question.acceptable_answers.index(answer)\n",
    "                valid_response = True\n",
    "            else:\n",
    "                print(\"Please choose a valid response \", question.acceptable_answers, \"\\n\")\n",
    "        answers.append(answer)\n",
    "        indeces.append(index)\n",
    "    if return_type == 'index':\n",
    "        return indeces\n",
    "    else:\n",
    "        return answers        \n",
    "\n",
    "def get_data_type(get_input):\n",
    "    if get_input is True:\n",
    "        ionization_modes = [\n",
    "            \"+EI\", \"+CI NH3\", \"+CI CH4\", \"-CI NH3\", \"-CI CH4\"\n",
    "        ]\n",
    "        scan_modes = [\n",
    "            \"Scan\", \"SIM\"\n",
    "        ]\n",
    "        question_prompts = [\n",
    "            f\"Select the ionization mode\\n(a) {ionization_modes[0]}\\n(b) {ionization_modes[1]}\\n(c) {ionization_modes[2]}\\n(d) {ionization_modes[3]}\\n(e) {ionization_modes[4]}\\nYour choice: \",\n",
    "            f\"Select the scan mode\\n(a) {scan_modes[0]}\\n(b) {scan_modes[1]}\\nYour choice: \"\n",
    "        ]\n",
    "        questions = [\n",
    "            Question(question_prompts[0],['a','b','c','d','e']),\n",
    "            Question(question_prompts[1],['a','b'])\n",
    "        ]\n",
    "        answers_as_indeces = ask_questions(questions=questions, return_type='index')\n",
    "        chosen_ionization_mode = ionization_modes[answers_as_indeces[0]]\n",
    "        chosen_scan_mode = scan_modes[answers_as_indeces[1]]\n",
    "        spectra_scan_type = f\"{chosen_ionization_mode} {chosen_scan_mode}\"\n",
    "        areas_scan_type = f\"{chosen_ionization_mode} TIC {chosen_scan_mode}\"\n",
    "        settings = [spectra_scan_type, areas_scan_type]\n",
    "    else:\n",
    "        ionization_mode = get_input[0]\n",
    "        scan_mode = get_input[1]\n",
    "        settings = configure_scan_settings(ionization_mode, scan_mode)\n",
    "    return settings\n",
    "        \n",
    "print(get_data_type(get_input=['+CI', 'SIM']))"
   ]
  },
  {
   "cell_type": "code",
   "execution_count": null,
   "id": "27b8c165-9a05-4324-b1ff-864d4cb2ea7c",
   "metadata": {},
   "outputs": [],
   "source": []
  },
  {
   "cell_type": "code",
   "execution_count": null,
   "id": "dea8674f-5e45-4eda-aa65-041e483ff1eb",
   "metadata": {},
   "outputs": [],
   "source": [
    "def ask_analysis_type():\n",
    "    \n",
    "    return"
   ]
  },
  {
   "cell_type": "code",
   "execution_count": null,
   "id": "4517dcad-c2ef-4c8a-9879-3fe8c6dd9bff",
   "metadata": {},
   "outputs": [],
   "source": [
    "def automatically_guess_data_type():\n",
    "    return"
   ]
  }
 ],
 "metadata": {
  "kernelspec": {
   "display_name": "Python 3",
   "language": "python",
   "name": "python3"
  },
  "language_info": {
   "codemirror_mode": {
    "name": "ipython",
    "version": 3
   },
   "file_extension": ".py",
   "mimetype": "text/x-python",
   "name": "python",
   "nbconvert_exporter": "python",
   "pygments_lexer": "ipython3",
   "version": "3.8.8"
  }
 },
 "nbformat": 4,
 "nbformat_minor": 5
}
